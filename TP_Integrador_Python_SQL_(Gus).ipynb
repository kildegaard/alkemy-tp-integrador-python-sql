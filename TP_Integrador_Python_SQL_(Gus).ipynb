{
  "cells": [
    {
      "cell_type": "markdown",
      "metadata": {
        "id": "Vh41MY40bbxX"
      },
      "source": [
        "# TP Integrador SQL + Python"
      ]
    },
    {
      "cell_type": "markdown",
      "metadata": {
        "id": "2hgaYMjWbiWh"
      },
      "source": [
        "# Primera parte - Trabajando con **pandas**"
      ]
    },
    {
      "cell_type": "code",
      "execution_count": 2,
      "metadata": {
        "id": "tfiks7xlVRed"
      },
      "outputs": [],
      "source": [
        "import pandas as pd\n",
        "import matplotlib.pyplot as plt"
      ]
    },
    {
      "cell_type": "code",
      "execution_count": 3,
      "metadata": {
        "id": "ToQZY4A9ch4x"
      },
      "outputs": [],
      "source": [
        "# Carga de archivos CSV en DataFrames de pandas\n",
        "\n",
        "customers =       pd.read_csv('./data/ecommerce_customers_dataset.csv')\n",
        "order_items =     pd.read_csv('./data/ecommerce_order_items_dataset.csv')\n",
        "order_payments =  pd.read_csv('./data/ecommerce_order_payments_dataset.csv')\n",
        "orders =          pd.read_csv('./data/ecommerce_orders_dataset.csv')\n",
        "products =        pd.read_csv('./data/ecommerce_products_dataset.csv')"
      ]
    },
    {
      "cell_type": "code",
      "execution_count": 4,
      "metadata": {
        "id": "esE3OHMjdTp9"
      },
      "outputs": [],
      "source": [
        "# Establecer la columna índices de las tablas como la clave primaria en el DataFrame\n",
        "\n",
        "customers.set_index(['customer_id'], inplace=True)\n",
        "order_items.set_index(['order_id'], inplace=True)\n",
        "order_payments.set_index(['order_id'], inplace=True)\n",
        "orders.set_index(['order_id'], inplace=True)\n",
        "products.set_index(['product_id'], inplace=True)"
      ]
    },
    {
      "cell_type": "code",
      "execution_count": 5,
      "metadata": {
        "colab": {
          "base_uri": "https://localhost:8080/",
          "height": 238
        },
        "id": "47X1JLGceAgS",
        "outputId": "14645fc2-ac3f-46a2-92a8-feaf56d66c23"
      },
      "outputs": [
        {
          "data": {
            "text/html": [
              "<div>\n",
              "<style scoped>\n",
              "    .dataframe tbody tr th:only-of-type {\n",
              "        vertical-align: middle;\n",
              "    }\n",
              "\n",
              "    .dataframe tbody tr th {\n",
              "        vertical-align: top;\n",
              "    }\n",
              "\n",
              "    .dataframe thead th {\n",
              "        text-align: right;\n",
              "    }\n",
              "</style>\n",
              "<table border=\"1\" class=\"dataframe\">\n",
              "  <thead>\n",
              "    <tr style=\"text-align: right;\">\n",
              "      <th></th>\n",
              "      <th>order_item_id</th>\n",
              "      <th>product_id</th>\n",
              "      <th>seller_id</th>\n",
              "      <th>shipping_limit_date</th>\n",
              "      <th>price</th>\n",
              "      <th>freight_value</th>\n",
              "    </tr>\n",
              "    <tr>\n",
              "      <th>order_id</th>\n",
              "      <th></th>\n",
              "      <th></th>\n",
              "      <th></th>\n",
              "      <th></th>\n",
              "      <th></th>\n",
              "      <th></th>\n",
              "    </tr>\n",
              "  </thead>\n",
              "  <tbody>\n",
              "    <tr>\n",
              "      <th>00010242fe8c5a6d1ba2dd792cb16214</th>\n",
              "      <td>1</td>\n",
              "      <td>4244733e06e7ecb4970a6e2683c13e61</td>\n",
              "      <td>48436dade18ac8b2bce089ec2a041202</td>\n",
              "      <td>2017-09-19 09:45:35</td>\n",
              "      <td>58.90</td>\n",
              "      <td>13.29</td>\n",
              "    </tr>\n",
              "    <tr>\n",
              "      <th>00018f77f2f0320c557190d7a144bdd3</th>\n",
              "      <td>1</td>\n",
              "      <td>e5f2d52b802189ee658865ca93d83a8f</td>\n",
              "      <td>dd7ddc04e1b6c2c614352b383efe2d36</td>\n",
              "      <td>2017-05-03 11:05:13</td>\n",
              "      <td>239.90</td>\n",
              "      <td>19.93</td>\n",
              "    </tr>\n",
              "    <tr>\n",
              "      <th>000229ec398224ef6ca0657da4fc703e</th>\n",
              "      <td>1</td>\n",
              "      <td>c777355d18b72b67abbeef9df44fd0fd</td>\n",
              "      <td>5b51032eddd242adc84c38acab88f23d</td>\n",
              "      <td>2018-01-18 14:48:30</td>\n",
              "      <td>199.00</td>\n",
              "      <td>17.87</td>\n",
              "    </tr>\n",
              "    <tr>\n",
              "      <th>00024acbcdf0a6daa1e931b038114c75</th>\n",
              "      <td>1</td>\n",
              "      <td>7634da152a4610f1595efa32f14722fc</td>\n",
              "      <td>9d7a1d34a5052409006425275ba1c2b4</td>\n",
              "      <td>2018-08-15 10:10:18</td>\n",
              "      <td>12.99</td>\n",
              "      <td>12.79</td>\n",
              "    </tr>\n",
              "    <tr>\n",
              "      <th>00042b26cf59d7ce69dfabb4e55b4fd9</th>\n",
              "      <td>1</td>\n",
              "      <td>ac6c3623068f30de03045865e4e10089</td>\n",
              "      <td>df560393f3a51e74553ab94004ba5c87</td>\n",
              "      <td>2017-02-13 13:57:51</td>\n",
              "      <td>199.90</td>\n",
              "      <td>18.14</td>\n",
              "    </tr>\n",
              "  </tbody>\n",
              "</table>\n",
              "</div>"
            ],
            "text/plain": [
              "                                  order_item_id  \\\n",
              "order_id                                          \n",
              "00010242fe8c5a6d1ba2dd792cb16214              1   \n",
              "00018f77f2f0320c557190d7a144bdd3              1   \n",
              "000229ec398224ef6ca0657da4fc703e              1   \n",
              "00024acbcdf0a6daa1e931b038114c75              1   \n",
              "00042b26cf59d7ce69dfabb4e55b4fd9              1   \n",
              "\n",
              "                                                        product_id  \\\n",
              "order_id                                                             \n",
              "00010242fe8c5a6d1ba2dd792cb16214  4244733e06e7ecb4970a6e2683c13e61   \n",
              "00018f77f2f0320c557190d7a144bdd3  e5f2d52b802189ee658865ca93d83a8f   \n",
              "000229ec398224ef6ca0657da4fc703e  c777355d18b72b67abbeef9df44fd0fd   \n",
              "00024acbcdf0a6daa1e931b038114c75  7634da152a4610f1595efa32f14722fc   \n",
              "00042b26cf59d7ce69dfabb4e55b4fd9  ac6c3623068f30de03045865e4e10089   \n",
              "\n",
              "                                                         seller_id  \\\n",
              "order_id                                                             \n",
              "00010242fe8c5a6d1ba2dd792cb16214  48436dade18ac8b2bce089ec2a041202   \n",
              "00018f77f2f0320c557190d7a144bdd3  dd7ddc04e1b6c2c614352b383efe2d36   \n",
              "000229ec398224ef6ca0657da4fc703e  5b51032eddd242adc84c38acab88f23d   \n",
              "00024acbcdf0a6daa1e931b038114c75  9d7a1d34a5052409006425275ba1c2b4   \n",
              "00042b26cf59d7ce69dfabb4e55b4fd9  df560393f3a51e74553ab94004ba5c87   \n",
              "\n",
              "                                  shipping_limit_date   price  freight_value  \n",
              "order_id                                                                      \n",
              "00010242fe8c5a6d1ba2dd792cb16214  2017-09-19 09:45:35   58.90          13.29  \n",
              "00018f77f2f0320c557190d7a144bdd3  2017-05-03 11:05:13  239.90          19.93  \n",
              "000229ec398224ef6ca0657da4fc703e  2018-01-18 14:48:30  199.00          17.87  \n",
              "00024acbcdf0a6daa1e931b038114c75  2018-08-15 10:10:18   12.99          12.79  \n",
              "00042b26cf59d7ce69dfabb4e55b4fd9  2017-02-13 13:57:51  199.90          18.14  "
            ]
          },
          "execution_count": 5,
          "metadata": {},
          "output_type": "execute_result"
        }
      ],
      "source": [
        "order_items.head()"
      ]
    },
    {
      "cell_type": "code",
      "execution_count": 6,
      "metadata": {
        "colab": {
          "base_uri": "https://localhost:8080/"
        },
        "id": "dO4evwD3dTOM",
        "outputId": "cdc12614-7028-47fe-c07b-0ef609320ccd"
      },
      "outputs": [
        {
          "data": {
            "text/plain": [
              "96096"
            ]
          },
          "execution_count": 6,
          "metadata": {},
          "output_type": "execute_result"
        }
      ],
      "source": [
        "# Obtener el número total de clientes únicos en el conjunto de datos\n",
        "customers['customer_unique_id'].nunique()"
      ]
    },
    {
      "cell_type": "code",
      "execution_count": 7,
      "metadata": {
        "colab": {
          "base_uri": "https://localhost:8080/",
          "height": 238
        },
        "id": "31kJyjyL0Zes",
        "outputId": "bb4d05ed-69df-4759-95d0-c8f4ce33152f"
      },
      "outputs": [
        {
          "data": {
            "text/html": [
              "<div>\n",
              "<style scoped>\n",
              "    .dataframe tbody tr th:only-of-type {\n",
              "        vertical-align: middle;\n",
              "    }\n",
              "\n",
              "    .dataframe tbody tr th {\n",
              "        vertical-align: top;\n",
              "    }\n",
              "\n",
              "    .dataframe thead th {\n",
              "        text-align: right;\n",
              "    }\n",
              "</style>\n",
              "<table border=\"1\" class=\"dataframe\">\n",
              "  <thead>\n",
              "    <tr style=\"text-align: right;\">\n",
              "      <th></th>\n",
              "      <th>payment_sequential</th>\n",
              "      <th>payment_type</th>\n",
              "      <th>payment_installments</th>\n",
              "      <th>payment_value</th>\n",
              "    </tr>\n",
              "    <tr>\n",
              "      <th>order_id</th>\n",
              "      <th></th>\n",
              "      <th></th>\n",
              "      <th></th>\n",
              "      <th></th>\n",
              "    </tr>\n",
              "  </thead>\n",
              "  <tbody>\n",
              "    <tr>\n",
              "      <th>b81ef226f3fe1789b1e8b2acac839d17</th>\n",
              "      <td>1</td>\n",
              "      <td>credit_card</td>\n",
              "      <td>8</td>\n",
              "      <td>99.33</td>\n",
              "    </tr>\n",
              "    <tr>\n",
              "      <th>a9810da82917af2d9aefd1278f1dcfa0</th>\n",
              "      <td>1</td>\n",
              "      <td>credit_card</td>\n",
              "      <td>1</td>\n",
              "      <td>24.39</td>\n",
              "    </tr>\n",
              "    <tr>\n",
              "      <th>25e8ea4e93396b6fa0d3dd708e76c1bd</th>\n",
              "      <td>1</td>\n",
              "      <td>credit_card</td>\n",
              "      <td>1</td>\n",
              "      <td>65.71</td>\n",
              "    </tr>\n",
              "    <tr>\n",
              "      <th>ba78997921bbcdc1373bb41e913ab953</th>\n",
              "      <td>1</td>\n",
              "      <td>credit_card</td>\n",
              "      <td>8</td>\n",
              "      <td>107.78</td>\n",
              "    </tr>\n",
              "    <tr>\n",
              "      <th>42fdf880ba16b47b59251dd489d4441a</th>\n",
              "      <td>1</td>\n",
              "      <td>credit_card</td>\n",
              "      <td>2</td>\n",
              "      <td>128.45</td>\n",
              "    </tr>\n",
              "  </tbody>\n",
              "</table>\n",
              "</div>"
            ],
            "text/plain": [
              "                                  payment_sequential payment_type  \\\n",
              "order_id                                                            \n",
              "b81ef226f3fe1789b1e8b2acac839d17                   1  credit_card   \n",
              "a9810da82917af2d9aefd1278f1dcfa0                   1  credit_card   \n",
              "25e8ea4e93396b6fa0d3dd708e76c1bd                   1  credit_card   \n",
              "ba78997921bbcdc1373bb41e913ab953                   1  credit_card   \n",
              "42fdf880ba16b47b59251dd489d4441a                   1  credit_card   \n",
              "\n",
              "                                  payment_installments  payment_value  \n",
              "order_id                                                               \n",
              "b81ef226f3fe1789b1e8b2acac839d17                     8          99.33  \n",
              "a9810da82917af2d9aefd1278f1dcfa0                     1          24.39  \n",
              "25e8ea4e93396b6fa0d3dd708e76c1bd                     1          65.71  \n",
              "ba78997921bbcdc1373bb41e913ab953                     8         107.78  \n",
              "42fdf880ba16b47b59251dd489d4441a                     2         128.45  "
            ]
          },
          "execution_count": 7,
          "metadata": {},
          "output_type": "execute_result"
        }
      ],
      "source": [
        "order_payments.head()"
      ]
    },
    {
      "cell_type": "code",
      "execution_count": 8,
      "metadata": {
        "colab": {
          "base_uri": "https://localhost:8080/"
        },
        "id": "Rkwd3su0dS1l",
        "outputId": "d5c943a2-041d-487c-e43b-1b16fee096ec"
      },
      "outputs": [
        {
          "data": {
            "text/plain": [
              "order_id\n",
              "03caa2c082116e1d31e67e9ae3700499    13664.080000\n",
              "736e1922ae60d0d6a89247b851902527     7274.880000\n",
              "0812eb902a67711a1cb742b3cdaa65ae     6929.310000\n",
              "fefacc66af859508bf1a7934eab1e97f     6922.210000\n",
              "f5136e38d1a14a4dbd87dff67da82701     6726.660000\n",
              "                                        ...     \n",
              "285c2e15bebd4ac83635ccc563dc71f4        1.856818\n",
              "d744783ed2ace06cac647a9e64dcbcfd        1.737500\n",
              "00b1cb0320190ca0daa2c88b35206009        0.000000\n",
              "c8c528189310eaa44a745b8d9d26908b        0.000000\n",
              "4637ca194b6387e2d538dc89b124b0ee        0.000000\n",
              "Name: payment_value, Length: 99440, dtype: float64"
            ]
          },
          "execution_count": 8,
          "metadata": {},
          "output_type": "execute_result"
        }
      ],
      "source": [
        "# Calcular el promedio de valor de pago por pedido\n",
        "order_payments.groupby(order_payments.index)['payment_value'].mean().sort_values(ascending=False)"
      ]
    },
    {
      "cell_type": "code",
      "execution_count": 9,
      "metadata": {
        "colab": {
          "base_uri": "https://localhost:8080/",
          "height": 163
        },
        "id": "p1hrJNxxf9Mz",
        "outputId": "777da975-bb7f-4e64-f2d7-41212fff6df3"
      },
      "outputs": [
        {
          "data": {
            "text/html": [
              "<div>\n",
              "<style scoped>\n",
              "    .dataframe tbody tr th:only-of-type {\n",
              "        vertical-align: middle;\n",
              "    }\n",
              "\n",
              "    .dataframe tbody tr th {\n",
              "        vertical-align: top;\n",
              "    }\n",
              "\n",
              "    .dataframe thead th {\n",
              "        text-align: right;\n",
              "    }\n",
              "</style>\n",
              "<table border=\"1\" class=\"dataframe\">\n",
              "  <thead>\n",
              "    <tr style=\"text-align: right;\">\n",
              "      <th></th>\n",
              "      <th>product_category_name</th>\n",
              "      <th>product_name_lenght</th>\n",
              "      <th>product_description_lenght</th>\n",
              "      <th>product_photos_qty</th>\n",
              "      <th>product_weight_g</th>\n",
              "      <th>product_length_cm</th>\n",
              "      <th>product_height_cm</th>\n",
              "      <th>product_width_cm</th>\n",
              "    </tr>\n",
              "    <tr>\n",
              "      <th>product_id</th>\n",
              "      <th></th>\n",
              "      <th></th>\n",
              "      <th></th>\n",
              "      <th></th>\n",
              "      <th></th>\n",
              "      <th></th>\n",
              "      <th></th>\n",
              "      <th></th>\n",
              "    </tr>\n",
              "  </thead>\n",
              "  <tbody>\n",
              "    <tr>\n",
              "      <th>1e9e8ef04dbcff4541ed26657ea517e5</th>\n",
              "      <td>perfumaria</td>\n",
              "      <td>40.0</td>\n",
              "      <td>287.0</td>\n",
              "      <td>1.0</td>\n",
              "      <td>225.0</td>\n",
              "      <td>16.0</td>\n",
              "      <td>10.0</td>\n",
              "      <td>14.0</td>\n",
              "    </tr>\n",
              "    <tr>\n",
              "      <th>3aa071139cb16b67ca9e5dea641aaa2f</th>\n",
              "      <td>artes</td>\n",
              "      <td>44.0</td>\n",
              "      <td>276.0</td>\n",
              "      <td>1.0</td>\n",
              "      <td>1000.0</td>\n",
              "      <td>30.0</td>\n",
              "      <td>18.0</td>\n",
              "      <td>20.0</td>\n",
              "    </tr>\n",
              "  </tbody>\n",
              "</table>\n",
              "</div>"
            ],
            "text/plain": [
              "                                 product_category_name  product_name_lenght  \\\n",
              "product_id                                                                    \n",
              "1e9e8ef04dbcff4541ed26657ea517e5            perfumaria                 40.0   \n",
              "3aa071139cb16b67ca9e5dea641aaa2f                 artes                 44.0   \n",
              "\n",
              "                                  product_description_lenght  \\\n",
              "product_id                                                     \n",
              "1e9e8ef04dbcff4541ed26657ea517e5                       287.0   \n",
              "3aa071139cb16b67ca9e5dea641aaa2f                       276.0   \n",
              "\n",
              "                                  product_photos_qty  product_weight_g  \\\n",
              "product_id                                                               \n",
              "1e9e8ef04dbcff4541ed26657ea517e5                 1.0             225.0   \n",
              "3aa071139cb16b67ca9e5dea641aaa2f                 1.0            1000.0   \n",
              "\n",
              "                                  product_length_cm  product_height_cm  \\\n",
              "product_id                                                               \n",
              "1e9e8ef04dbcff4541ed26657ea517e5               16.0               10.0   \n",
              "3aa071139cb16b67ca9e5dea641aaa2f               30.0               18.0   \n",
              "\n",
              "                                  product_width_cm  \n",
              "product_id                                          \n",
              "1e9e8ef04dbcff4541ed26657ea517e5              14.0  \n",
              "3aa071139cb16b67ca9e5dea641aaa2f              20.0  "
            ]
          },
          "execution_count": 9,
          "metadata": {},
          "output_type": "execute_result"
        }
      ],
      "source": [
        "# Determinar la categoría de producto más vendida\n",
        "products.head(2)"
      ]
    },
    {
      "cell_type": "code",
      "execution_count": 10,
      "metadata": {
        "colab": {
          "base_uri": "https://localhost:8080/",
          "height": 238
        },
        "id": "9qk50obhhy6k",
        "outputId": "33ecffc6-972e-4bc0-9508-b93ea90a48c4"
      },
      "outputs": [
        {
          "data": {
            "text/html": [
              "<div>\n",
              "<style scoped>\n",
              "    .dataframe tbody tr th:only-of-type {\n",
              "        vertical-align: middle;\n",
              "    }\n",
              "\n",
              "    .dataframe tbody tr th {\n",
              "        vertical-align: top;\n",
              "    }\n",
              "\n",
              "    .dataframe thead th {\n",
              "        text-align: right;\n",
              "    }\n",
              "</style>\n",
              "<table border=\"1\" class=\"dataframe\">\n",
              "  <thead>\n",
              "    <tr style=\"text-align: right;\">\n",
              "      <th></th>\n",
              "      <th>order_item_id</th>\n",
              "      <th>product_id</th>\n",
              "      <th>seller_id</th>\n",
              "      <th>shipping_limit_date</th>\n",
              "      <th>price</th>\n",
              "      <th>freight_value</th>\n",
              "    </tr>\n",
              "    <tr>\n",
              "      <th>order_id</th>\n",
              "      <th></th>\n",
              "      <th></th>\n",
              "      <th></th>\n",
              "      <th></th>\n",
              "      <th></th>\n",
              "      <th></th>\n",
              "    </tr>\n",
              "  </thead>\n",
              "  <tbody>\n",
              "    <tr>\n",
              "      <th>00010242fe8c5a6d1ba2dd792cb16214</th>\n",
              "      <td>1</td>\n",
              "      <td>4244733e06e7ecb4970a6e2683c13e61</td>\n",
              "      <td>48436dade18ac8b2bce089ec2a041202</td>\n",
              "      <td>2017-09-19 09:45:35</td>\n",
              "      <td>58.90</td>\n",
              "      <td>13.29</td>\n",
              "    </tr>\n",
              "    <tr>\n",
              "      <th>00018f77f2f0320c557190d7a144bdd3</th>\n",
              "      <td>1</td>\n",
              "      <td>e5f2d52b802189ee658865ca93d83a8f</td>\n",
              "      <td>dd7ddc04e1b6c2c614352b383efe2d36</td>\n",
              "      <td>2017-05-03 11:05:13</td>\n",
              "      <td>239.90</td>\n",
              "      <td>19.93</td>\n",
              "    </tr>\n",
              "    <tr>\n",
              "      <th>000229ec398224ef6ca0657da4fc703e</th>\n",
              "      <td>1</td>\n",
              "      <td>c777355d18b72b67abbeef9df44fd0fd</td>\n",
              "      <td>5b51032eddd242adc84c38acab88f23d</td>\n",
              "      <td>2018-01-18 14:48:30</td>\n",
              "      <td>199.00</td>\n",
              "      <td>17.87</td>\n",
              "    </tr>\n",
              "    <tr>\n",
              "      <th>00024acbcdf0a6daa1e931b038114c75</th>\n",
              "      <td>1</td>\n",
              "      <td>7634da152a4610f1595efa32f14722fc</td>\n",
              "      <td>9d7a1d34a5052409006425275ba1c2b4</td>\n",
              "      <td>2018-08-15 10:10:18</td>\n",
              "      <td>12.99</td>\n",
              "      <td>12.79</td>\n",
              "    </tr>\n",
              "    <tr>\n",
              "      <th>00042b26cf59d7ce69dfabb4e55b4fd9</th>\n",
              "      <td>1</td>\n",
              "      <td>ac6c3623068f30de03045865e4e10089</td>\n",
              "      <td>df560393f3a51e74553ab94004ba5c87</td>\n",
              "      <td>2017-02-13 13:57:51</td>\n",
              "      <td>199.90</td>\n",
              "      <td>18.14</td>\n",
              "    </tr>\n",
              "  </tbody>\n",
              "</table>\n",
              "</div>"
            ],
            "text/plain": [
              "                                  order_item_id  \\\n",
              "order_id                                          \n",
              "00010242fe8c5a6d1ba2dd792cb16214              1   \n",
              "00018f77f2f0320c557190d7a144bdd3              1   \n",
              "000229ec398224ef6ca0657da4fc703e              1   \n",
              "00024acbcdf0a6daa1e931b038114c75              1   \n",
              "00042b26cf59d7ce69dfabb4e55b4fd9              1   \n",
              "\n",
              "                                                        product_id  \\\n",
              "order_id                                                             \n",
              "00010242fe8c5a6d1ba2dd792cb16214  4244733e06e7ecb4970a6e2683c13e61   \n",
              "00018f77f2f0320c557190d7a144bdd3  e5f2d52b802189ee658865ca93d83a8f   \n",
              "000229ec398224ef6ca0657da4fc703e  c777355d18b72b67abbeef9df44fd0fd   \n",
              "00024acbcdf0a6daa1e931b038114c75  7634da152a4610f1595efa32f14722fc   \n",
              "00042b26cf59d7ce69dfabb4e55b4fd9  ac6c3623068f30de03045865e4e10089   \n",
              "\n",
              "                                                         seller_id  \\\n",
              "order_id                                                             \n",
              "00010242fe8c5a6d1ba2dd792cb16214  48436dade18ac8b2bce089ec2a041202   \n",
              "00018f77f2f0320c557190d7a144bdd3  dd7ddc04e1b6c2c614352b383efe2d36   \n",
              "000229ec398224ef6ca0657da4fc703e  5b51032eddd242adc84c38acab88f23d   \n",
              "00024acbcdf0a6daa1e931b038114c75  9d7a1d34a5052409006425275ba1c2b4   \n",
              "00042b26cf59d7ce69dfabb4e55b4fd9  df560393f3a51e74553ab94004ba5c87   \n",
              "\n",
              "                                  shipping_limit_date   price  freight_value  \n",
              "order_id                                                                      \n",
              "00010242fe8c5a6d1ba2dd792cb16214  2017-09-19 09:45:35   58.90          13.29  \n",
              "00018f77f2f0320c557190d7a144bdd3  2017-05-03 11:05:13  239.90          19.93  \n",
              "000229ec398224ef6ca0657da4fc703e  2018-01-18 14:48:30  199.00          17.87  \n",
              "00024acbcdf0a6daa1e931b038114c75  2018-08-15 10:10:18   12.99          12.79  \n",
              "00042b26cf59d7ce69dfabb4e55b4fd9  2017-02-13 13:57:51  199.90          18.14  "
            ]
          },
          "execution_count": 10,
          "metadata": {},
          "output_type": "execute_result"
        }
      ],
      "source": [
        "order_items.head()"
      ]
    },
    {
      "cell_type": "code",
      "execution_count": 11,
      "metadata": {
        "colab": {
          "base_uri": "https://localhost:8080/"
        },
        "id": "KgO3iUDQf9kW",
        "outputId": "bfea2a62-5edc-4df5-bc5b-5bf54b712480"
      },
      "outputs": [
        {
          "data": {
            "text/plain": [
              "product_id\n",
              "aca2eb7d00ea1a7b8ebd4e68314663af    527\n",
              "99a4788cb24856965c36a24e339b6058    488\n",
              "422879e10f46682990de24d770e7f83d    484\n",
              "389d119b48cf3043d311335e499d9c6b    392\n",
              "368c6c730842d78016ad823897a372db    388\n",
              "                                   ... \n",
              "dbc42f8ad8afd0147a5a46be630781f8      1\n",
              "5d86ed92606c80a89e547cdba3946812      1\n",
              "0b8750fa58fefe42cf03a9e2e4b8fce6      1\n",
              "a4758e74e2cdb74d0c4db83594ca14a3      1\n",
              "350688d9dc1e75ff97be326363655e01      1\n",
              "Name: count, Length: 32951, dtype: int64"
            ]
          },
          "execution_count": 11,
          "metadata": {},
          "output_type": "execute_result"
        }
      ],
      "source": [
        "order_items['product_id'].value_counts()"
      ]
    },
    {
      "cell_type": "code",
      "execution_count": 12,
      "metadata": {
        "colab": {
          "base_uri": "https://localhost:8080/"
        },
        "id": "d0y-v7HpjwW6",
        "outputId": "e2ba64c4-19c3-4273-8e08-7b971e490069"
      },
      "outputs": [
        {
          "data": {
            "text/plain": [
              "product_category_name\n",
              "cama_mesa_banho    11115\n",
              "Name: count, dtype: int64"
            ]
          },
          "execution_count": 12,
          "metadata": {},
          "output_type": "execute_result"
        }
      ],
      "source": [
        "pd.merge(left=order_items, right=products, how='inner', on='product_id')['product_category_name'].value_counts().head(1)"
      ]
    },
    {
      "cell_type": "code",
      "execution_count": 13,
      "metadata": {
        "colab": {
          "base_uri": "https://localhost:8080/"
        },
        "id": "noA_BCVmlYoz",
        "outputId": "9e7caaeb-2f92-43bf-b9ca-c7bea8cb984c"
      },
      "outputs": [
        {
          "data": {
            "text/plain": [
              "99441"
            ]
          },
          "execution_count": 13,
          "metadata": {},
          "output_type": "execute_result"
        }
      ],
      "source": [
        "# Calcular el número total de pedidos realizados\n",
        "orders.shape[0]"
      ]
    },
    {
      "cell_type": "code",
      "execution_count": 14,
      "metadata": {
        "colab": {
          "base_uri": "https://localhost:8080/",
          "height": 238
        },
        "id": "XfImLiGspWGd",
        "outputId": "c7375675-efa5-4e79-887d-d8ff8a004969"
      },
      "outputs": [
        {
          "data": {
            "text/html": [
              "<div>\n",
              "<style scoped>\n",
              "    .dataframe tbody tr th:only-of-type {\n",
              "        vertical-align: middle;\n",
              "    }\n",
              "\n",
              "    .dataframe tbody tr th {\n",
              "        vertical-align: top;\n",
              "    }\n",
              "\n",
              "    .dataframe thead th {\n",
              "        text-align: right;\n",
              "    }\n",
              "</style>\n",
              "<table border=\"1\" class=\"dataframe\">\n",
              "  <thead>\n",
              "    <tr style=\"text-align: right;\">\n",
              "      <th></th>\n",
              "      <th>order_item_id</th>\n",
              "      <th>product_id</th>\n",
              "      <th>seller_id</th>\n",
              "      <th>shipping_limit_date</th>\n",
              "      <th>price</th>\n",
              "      <th>freight_value</th>\n",
              "    </tr>\n",
              "    <tr>\n",
              "      <th>order_id</th>\n",
              "      <th></th>\n",
              "      <th></th>\n",
              "      <th></th>\n",
              "      <th></th>\n",
              "      <th></th>\n",
              "      <th></th>\n",
              "    </tr>\n",
              "  </thead>\n",
              "  <tbody>\n",
              "    <tr>\n",
              "      <th>00010242fe8c5a6d1ba2dd792cb16214</th>\n",
              "      <td>1</td>\n",
              "      <td>4244733e06e7ecb4970a6e2683c13e61</td>\n",
              "      <td>48436dade18ac8b2bce089ec2a041202</td>\n",
              "      <td>2017-09-19 09:45:35</td>\n",
              "      <td>58.90</td>\n",
              "      <td>13.29</td>\n",
              "    </tr>\n",
              "    <tr>\n",
              "      <th>00018f77f2f0320c557190d7a144bdd3</th>\n",
              "      <td>1</td>\n",
              "      <td>e5f2d52b802189ee658865ca93d83a8f</td>\n",
              "      <td>dd7ddc04e1b6c2c614352b383efe2d36</td>\n",
              "      <td>2017-05-03 11:05:13</td>\n",
              "      <td>239.90</td>\n",
              "      <td>19.93</td>\n",
              "    </tr>\n",
              "    <tr>\n",
              "      <th>000229ec398224ef6ca0657da4fc703e</th>\n",
              "      <td>1</td>\n",
              "      <td>c777355d18b72b67abbeef9df44fd0fd</td>\n",
              "      <td>5b51032eddd242adc84c38acab88f23d</td>\n",
              "      <td>2018-01-18 14:48:30</td>\n",
              "      <td>199.00</td>\n",
              "      <td>17.87</td>\n",
              "    </tr>\n",
              "    <tr>\n",
              "      <th>00024acbcdf0a6daa1e931b038114c75</th>\n",
              "      <td>1</td>\n",
              "      <td>7634da152a4610f1595efa32f14722fc</td>\n",
              "      <td>9d7a1d34a5052409006425275ba1c2b4</td>\n",
              "      <td>2018-08-15 10:10:18</td>\n",
              "      <td>12.99</td>\n",
              "      <td>12.79</td>\n",
              "    </tr>\n",
              "    <tr>\n",
              "      <th>00042b26cf59d7ce69dfabb4e55b4fd9</th>\n",
              "      <td>1</td>\n",
              "      <td>ac6c3623068f30de03045865e4e10089</td>\n",
              "      <td>df560393f3a51e74553ab94004ba5c87</td>\n",
              "      <td>2017-02-13 13:57:51</td>\n",
              "      <td>199.90</td>\n",
              "      <td>18.14</td>\n",
              "    </tr>\n",
              "  </tbody>\n",
              "</table>\n",
              "</div>"
            ],
            "text/plain": [
              "                                  order_item_id  \\\n",
              "order_id                                          \n",
              "00010242fe8c5a6d1ba2dd792cb16214              1   \n",
              "00018f77f2f0320c557190d7a144bdd3              1   \n",
              "000229ec398224ef6ca0657da4fc703e              1   \n",
              "00024acbcdf0a6daa1e931b038114c75              1   \n",
              "00042b26cf59d7ce69dfabb4e55b4fd9              1   \n",
              "\n",
              "                                                        product_id  \\\n",
              "order_id                                                             \n",
              "00010242fe8c5a6d1ba2dd792cb16214  4244733e06e7ecb4970a6e2683c13e61   \n",
              "00018f77f2f0320c557190d7a144bdd3  e5f2d52b802189ee658865ca93d83a8f   \n",
              "000229ec398224ef6ca0657da4fc703e  c777355d18b72b67abbeef9df44fd0fd   \n",
              "00024acbcdf0a6daa1e931b038114c75  7634da152a4610f1595efa32f14722fc   \n",
              "00042b26cf59d7ce69dfabb4e55b4fd9  ac6c3623068f30de03045865e4e10089   \n",
              "\n",
              "                                                         seller_id  \\\n",
              "order_id                                                             \n",
              "00010242fe8c5a6d1ba2dd792cb16214  48436dade18ac8b2bce089ec2a041202   \n",
              "00018f77f2f0320c557190d7a144bdd3  dd7ddc04e1b6c2c614352b383efe2d36   \n",
              "000229ec398224ef6ca0657da4fc703e  5b51032eddd242adc84c38acab88f23d   \n",
              "00024acbcdf0a6daa1e931b038114c75  9d7a1d34a5052409006425275ba1c2b4   \n",
              "00042b26cf59d7ce69dfabb4e55b4fd9  df560393f3a51e74553ab94004ba5c87   \n",
              "\n",
              "                                  shipping_limit_date   price  freight_value  \n",
              "order_id                                                                      \n",
              "00010242fe8c5a6d1ba2dd792cb16214  2017-09-19 09:45:35   58.90          13.29  \n",
              "00018f77f2f0320c557190d7a144bdd3  2017-05-03 11:05:13  239.90          19.93  \n",
              "000229ec398224ef6ca0657da4fc703e  2018-01-18 14:48:30  199.00          17.87  \n",
              "00024acbcdf0a6daa1e931b038114c75  2018-08-15 10:10:18   12.99          12.79  \n",
              "00042b26cf59d7ce69dfabb4e55b4fd9  2017-02-13 13:57:51  199.90          18.14  "
            ]
          },
          "execution_count": 14,
          "metadata": {},
          "output_type": "execute_result"
        }
      ],
      "source": [
        "order_items.head()"
      ]
    },
    {
      "cell_type": "code",
      "execution_count": 15,
      "metadata": {
        "colab": {
          "base_uri": "https://localhost:8080/",
          "height": 258
        },
        "id": "kRDIXw0dpgXp",
        "outputId": "4a761142-64e0-41f3-e68a-8b7ec8210416"
      },
      "outputs": [
        {
          "data": {
            "text/html": [
              "<div>\n",
              "<style scoped>\n",
              "    .dataframe tbody tr th:only-of-type {\n",
              "        vertical-align: middle;\n",
              "    }\n",
              "\n",
              "    .dataframe tbody tr th {\n",
              "        vertical-align: top;\n",
              "    }\n",
              "\n",
              "    .dataframe thead th {\n",
              "        text-align: right;\n",
              "    }\n",
              "</style>\n",
              "<table border=\"1\" class=\"dataframe\">\n",
              "  <thead>\n",
              "    <tr style=\"text-align: right;\">\n",
              "      <th></th>\n",
              "      <th>customer_id</th>\n",
              "      <th>order_status</th>\n",
              "      <th>order_purchase_timestamp</th>\n",
              "      <th>order_approved_at</th>\n",
              "      <th>order_delivered_carrier_date</th>\n",
              "      <th>order_delivered_customer_date</th>\n",
              "      <th>order_estimated_delivery_date</th>\n",
              "    </tr>\n",
              "    <tr>\n",
              "      <th>order_id</th>\n",
              "      <th></th>\n",
              "      <th></th>\n",
              "      <th></th>\n",
              "      <th></th>\n",
              "      <th></th>\n",
              "      <th></th>\n",
              "      <th></th>\n",
              "    </tr>\n",
              "  </thead>\n",
              "  <tbody>\n",
              "    <tr>\n",
              "      <th>e481f51cbdc54678b7cc49136f2d6af7</th>\n",
              "      <td>9ef432eb6251297304e76186b10a928d</td>\n",
              "      <td>delivered</td>\n",
              "      <td>2017-10-02 10:56:33</td>\n",
              "      <td>2017-10-02 11:07:15</td>\n",
              "      <td>2017-10-04 19:55:00</td>\n",
              "      <td>2017-10-10 21:25:13</td>\n",
              "      <td>2017-10-18 00:00:00</td>\n",
              "    </tr>\n",
              "    <tr>\n",
              "      <th>53cdb2fc8bc7dce0b6741e2150273451</th>\n",
              "      <td>b0830fb4747a6c6d20dea0b8c802d7ef</td>\n",
              "      <td>delivered</td>\n",
              "      <td>2018-07-24 20:41:37</td>\n",
              "      <td>2018-07-26 03:24:27</td>\n",
              "      <td>2018-07-26 14:31:00</td>\n",
              "      <td>2018-08-07 15:27:45</td>\n",
              "      <td>2018-08-13 00:00:00</td>\n",
              "    </tr>\n",
              "    <tr>\n",
              "      <th>47770eb9100c2d0c44946d9cf07ec65d</th>\n",
              "      <td>41ce2a54c0b03bf3443c3d931a367089</td>\n",
              "      <td>delivered</td>\n",
              "      <td>2018-08-08 08:38:49</td>\n",
              "      <td>2018-08-08 08:55:23</td>\n",
              "      <td>2018-08-08 13:50:00</td>\n",
              "      <td>2018-08-17 18:06:29</td>\n",
              "      <td>2018-09-04 00:00:00</td>\n",
              "    </tr>\n",
              "    <tr>\n",
              "      <th>949d5b44dbf5de918fe9c16f97b45f8a</th>\n",
              "      <td>f88197465ea7920adcdbec7375364d82</td>\n",
              "      <td>delivered</td>\n",
              "      <td>2017-11-18 19:28:06</td>\n",
              "      <td>2017-11-18 19:45:59</td>\n",
              "      <td>2017-11-22 13:39:59</td>\n",
              "      <td>2017-12-02 00:28:42</td>\n",
              "      <td>2017-12-15 00:00:00</td>\n",
              "    </tr>\n",
              "    <tr>\n",
              "      <th>ad21c59c0840e6cb83a9ceb5573f8159</th>\n",
              "      <td>8ab97904e6daea8866dbdbc4fb7aad2c</td>\n",
              "      <td>delivered</td>\n",
              "      <td>2018-02-13 21:18:39</td>\n",
              "      <td>2018-02-13 22:20:29</td>\n",
              "      <td>2018-02-14 19:46:34</td>\n",
              "      <td>2018-02-16 18:17:02</td>\n",
              "      <td>2018-02-26 00:00:00</td>\n",
              "    </tr>\n",
              "  </tbody>\n",
              "</table>\n",
              "</div>"
            ],
            "text/plain": [
              "                                                       customer_id  \\\n",
              "order_id                                                             \n",
              "e481f51cbdc54678b7cc49136f2d6af7  9ef432eb6251297304e76186b10a928d   \n",
              "53cdb2fc8bc7dce0b6741e2150273451  b0830fb4747a6c6d20dea0b8c802d7ef   \n",
              "47770eb9100c2d0c44946d9cf07ec65d  41ce2a54c0b03bf3443c3d931a367089   \n",
              "949d5b44dbf5de918fe9c16f97b45f8a  f88197465ea7920adcdbec7375364d82   \n",
              "ad21c59c0840e6cb83a9ceb5573f8159  8ab97904e6daea8866dbdbc4fb7aad2c   \n",
              "\n",
              "                                 order_status order_purchase_timestamp  \\\n",
              "order_id                                                                 \n",
              "e481f51cbdc54678b7cc49136f2d6af7    delivered      2017-10-02 10:56:33   \n",
              "53cdb2fc8bc7dce0b6741e2150273451    delivered      2018-07-24 20:41:37   \n",
              "47770eb9100c2d0c44946d9cf07ec65d    delivered      2018-08-08 08:38:49   \n",
              "949d5b44dbf5de918fe9c16f97b45f8a    delivered      2017-11-18 19:28:06   \n",
              "ad21c59c0840e6cb83a9ceb5573f8159    delivered      2018-02-13 21:18:39   \n",
              "\n",
              "                                    order_approved_at  \\\n",
              "order_id                                                \n",
              "e481f51cbdc54678b7cc49136f2d6af7  2017-10-02 11:07:15   \n",
              "53cdb2fc8bc7dce0b6741e2150273451  2018-07-26 03:24:27   \n",
              "47770eb9100c2d0c44946d9cf07ec65d  2018-08-08 08:55:23   \n",
              "949d5b44dbf5de918fe9c16f97b45f8a  2017-11-18 19:45:59   \n",
              "ad21c59c0840e6cb83a9ceb5573f8159  2018-02-13 22:20:29   \n",
              "\n",
              "                                 order_delivered_carrier_date  \\\n",
              "order_id                                                        \n",
              "e481f51cbdc54678b7cc49136f2d6af7          2017-10-04 19:55:00   \n",
              "53cdb2fc8bc7dce0b6741e2150273451          2018-07-26 14:31:00   \n",
              "47770eb9100c2d0c44946d9cf07ec65d          2018-08-08 13:50:00   \n",
              "949d5b44dbf5de918fe9c16f97b45f8a          2017-11-22 13:39:59   \n",
              "ad21c59c0840e6cb83a9ceb5573f8159          2018-02-14 19:46:34   \n",
              "\n",
              "                                 order_delivered_customer_date  \\\n",
              "order_id                                                         \n",
              "e481f51cbdc54678b7cc49136f2d6af7           2017-10-10 21:25:13   \n",
              "53cdb2fc8bc7dce0b6741e2150273451           2018-08-07 15:27:45   \n",
              "47770eb9100c2d0c44946d9cf07ec65d           2018-08-17 18:06:29   \n",
              "949d5b44dbf5de918fe9c16f97b45f8a           2017-12-02 00:28:42   \n",
              "ad21c59c0840e6cb83a9ceb5573f8159           2018-02-16 18:17:02   \n",
              "\n",
              "                                 order_estimated_delivery_date  \n",
              "order_id                                                        \n",
              "e481f51cbdc54678b7cc49136f2d6af7           2017-10-18 00:00:00  \n",
              "53cdb2fc8bc7dce0b6741e2150273451           2018-08-13 00:00:00  \n",
              "47770eb9100c2d0c44946d9cf07ec65d           2018-09-04 00:00:00  \n",
              "949d5b44dbf5de918fe9c16f97b45f8a           2017-12-15 00:00:00  \n",
              "ad21c59c0840e6cb83a9ceb5573f8159           2018-02-26 00:00:00  "
            ]
          },
          "execution_count": 15,
          "metadata": {},
          "output_type": "execute_result"
        }
      ],
      "source": [
        "orders.head()"
      ]
    },
    {
      "cell_type": "markdown",
      "metadata": {
        "id": "rOkl1PNubt2A"
      },
      "source": [
        "# Segunda parte - Trabajando con **SQLite3**"
      ]
    },
    {
      "cell_type": "markdown",
      "metadata": {
        "id": "4MWKqpjwbNmE"
      },
      "source": [
        "## Pruebitas para ver si funcionaba!"
      ]
    },
    {
      "cell_type": "code",
      "execution_count": null,
      "metadata": {
        "colab": {
          "base_uri": "https://localhost:8080/"
        },
        "id": "D2sdeRHOXGji",
        "outputId": "ee0c7264-3ca3-4e4c-8811-045d9c266bca"
      },
      "outputs": [
        {
          "data": {
            "text/plain": [
              "<sqlite3.Cursor at 0x7c7ec69a97c0>"
            ]
          },
          "execution_count": 17,
          "metadata": {},
          "output_type": "execute_result"
        }
      ],
      "source": [
        "query = '''\n",
        "  CREATE TABLE tablita (\n",
        "    id INTEGER PRIMARY KEY AUTOINCREMENT,\n",
        "    nombre VARCHAR(50),\n",
        "    edad INT\n",
        "  );\n",
        "'''\n",
        "cur.execute(query)"
      ]
    },
    {
      "cell_type": "code",
      "execution_count": null,
      "metadata": {
        "colab": {
          "base_uri": "https://localhost:8080/"
        },
        "id": "rzjHbvFeZEPM",
        "outputId": "03f8c0f4-51e8-41d2-a0f1-8f75073f525f"
      },
      "outputs": [
        {
          "data": {
            "text/plain": [
              "<sqlite3.Cursor at 0x7c7ec69a97c0>"
            ]
          },
          "execution_count": 18,
          "metadata": {},
          "output_type": "execute_result"
        }
      ],
      "source": [
        "query_insertar = '''\n",
        "  INSERT INTO tablita\n",
        "    (nombre, edad)\n",
        "  VALUES\n",
        "    ('Gustavo', 35),\n",
        "    ('Agustina', 33)\n",
        "  ;\n",
        "'''\n",
        "cur.execute(query_insertar)"
      ]
    },
    {
      "cell_type": "code",
      "execution_count": null,
      "metadata": {
        "colab": {
          "base_uri": "https://localhost:8080/"
        },
        "id": "rI8cVz0lZVnc",
        "outputId": "11e48db0-1757-4f9c-bf69-2730b8969c3c"
      },
      "outputs": [
        {
          "name": "stdout",
          "output_type": "stream",
          "text": [
            "(1, 'Gustavo', 35)\n",
            "(2, 'Agustina', 33)\n"
          ]
        }
      ],
      "source": [
        "query_1 = '''\n",
        "  SELECT *\n",
        "  FROM tablita;\n",
        "'''\n",
        "resultado = cur.execute(query_1).fetchall()\n",
        "for res in resultado:\n",
        "  print(res)"
      ]
    },
    {
      "cell_type": "code",
      "execution_count": null,
      "metadata": {
        "colab": {
          "base_uri": "https://localhost:8080/"
        },
        "id": "05WYGWNQaVpV",
        "outputId": "5a596c17-bedc-4bb3-c500-52b73a926e03"
      },
      "outputs": [
        {
          "data": {
            "text/plain": [
              "<sqlite3.Cursor at 0x7c7ec69a97c0>"
            ]
          },
          "execution_count": 20,
          "metadata": {},
          "output_type": "execute_result"
        }
      ],
      "source": [
        "# Y ahora dropeamos todo para poder arrancar\n",
        "query_1 = '''\n",
        "  DROP TABLE tablita;\n",
        "'''\n",
        "cur.execute(query_1)"
      ]
    },
    {
      "cell_type": "code",
      "execution_count": null,
      "metadata": {
        "colab": {
          "base_uri": "https://localhost:8080/",
          "height": 87
        },
        "id": "Ntq-f3nZlu5J",
        "outputId": "db2edf59-dd33-4fc9-f7db-c0ea4d274947"
      },
      "outputs": [
        {
          "data": {
            "application/vnd.google.colaboratory.intrinsic+json": {
              "type": "string"
            },
            "text/plain": [
              "\"\\nHaciendo esto puedo crear tablas en SQL a partir de los DataFrame\\n\\necommerce_customers.to_sql(     name='customers', con=conn, if_exists='append', index=False)\\necommerce_order_items.to_sql(   name='order_items', con=conn, if_exists='append', index=False)\\necommerce_order_payments.to_sql(name='order_payments', con=conn, if_exists='append', index=False)\\necommerce_orders.to_sql(        name='orders', con=conn, if_exists='append', index=False)\\necommerce_products.to_sql(      name='products', con=conn, if_exists='append', index=False)\\n\""
            ]
          },
          "execution_count": 21,
          "metadata": {},
          "output_type": "execute_result"
        }
      ],
      "source": [
        "'''\n",
        "Haciendo esto puedo crear tablas en SQL a partir de los DataFrame\n",
        "\n",
        "ecommerce_customers.to_sql(     name='customers', con=conn, if_exists='append', index=False)\n",
        "ecommerce_order_items.to_sql(   name='order_items', con=conn, if_exists='append', index=False)\n",
        "ecommerce_order_payments.to_sql(name='order_payments', con=conn, if_exists='append', index=False)\n",
        "ecommerce_orders.to_sql(        name='orders', con=conn, if_exists='append', index=False)\n",
        "ecommerce_products.to_sql(      name='products', con=conn, if_exists='append', index=False)\n",
        "'''"
      ]
    },
    {
      "cell_type": "markdown",
      "metadata": {
        "id": "BlTEFL2-dCTu"
      },
      "source": [
        "## Arrancamos con la parte de SQL"
      ]
    },
    {
      "cell_type": "markdown",
      "metadata": {
        "id": "q_1mLHJFIPUy"
      },
      "source": [
        "### Crear una base de datos de SQLite llamada ecommerce.db"
      ]
    },
    {
      "cell_type": "code",
      "execution_count": 16,
      "metadata": {
        "id": "vLdlX30dbzME"
      },
      "outputs": [],
      "source": [
        "import sqlite3"
      ]
    },
    {
      "cell_type": "code",
      "execution_count": 17,
      "metadata": {
        "id": "mHC5_NXjbyJo"
      },
      "outputs": [],
      "source": [
        "conn = sqlite3.connect('ecommerce.db')\n",
        "cur = conn.cursor()"
      ]
    },
    {
      "cell_type": "code",
      "execution_count": null,
      "metadata": {
        "id": "Xmg7hk-hB2YP"
      },
      "outputs": [],
      "source": [
        "cur.close()"
      ]
    },
    {
      "cell_type": "markdown",
      "metadata": {
        "id": "uQ9fZBPyIWLk"
      },
      "source": [
        "### Guardar los DataFrames en la base de datos como tablas, incluyendo la clave primaria"
      ]
    },
    {
      "cell_type": "code",
      "execution_count": 18,
      "metadata": {
        "id": "63xItEIB5teW"
      },
      "outputs": [],
      "source": [
        "# creamos las tablas en la BBDD\n",
        "create_tables = '''\n",
        "CREATE TABLE customers (\n",
        "    customer_id TEXT PRIMARY KEY,\n",
        "    customer_unique_id TEXT,\n",
        "    customer_zip_code_prefix INTEGER,\n",
        "    customer_city TEXT,\n",
        "    customer_state TEXT\n",
        ");\n",
        "CREATE TABLE order_items (\n",
        "    order_id TEXT,\n",
        "    order_item_id INTEGER,\n",
        "    product_id TEXT,\n",
        "    seller_id TEXT,\n",
        "    shipping_limit_date TEXT,\n",
        "    price REAL,\n",
        "    freight_value REAL,\n",
        "    PRIMARY KEY (order_id, order_item_id)\n",
        ");\n",
        "CREATE TABLE order_payments (\n",
        "    order_id TEXT,\n",
        "    payment_sequential INTEGER,\n",
        "    payment_type TEXT,\n",
        "    payment_installments INTEGER,\n",
        "    payment_value REAL,\n",
        "    PRIMARY KEY(order_id,payment_sequential)\n",
        ");\n",
        "CREATE TABLE orders (\n",
        "    order_id TEXT PRIMARY KEY,\n",
        "    customer_id TEXT,\n",
        "    order_status TEXT,\n",
        "    order_purchase_timestamp TEXT,\n",
        "    order_approved_at TEXT,\n",
        "    order_delivered_carrier_date TEXT,\n",
        "    order_delivered_customer_date TEXT,\n",
        "    order_estimated_delivery_date TEXT\n",
        ");\n",
        "CREATE TABLE products (\n",
        "    product_id TEXT PRIMARY KEY,\n",
        "    product_category_name TEXT,\n",
        "    product_name_lenght REAL,\n",
        "    product_description_lenght REAL,\n",
        "    product_photos_qty REAL,\n",
        "    product_weight_g REAL,\n",
        "    product_length_cm REAL,\n",
        "    product_height_cm REAL,\n",
        "    product_width_cm REAL\n",
        ");\n",
        "'''"
      ]
    },
    {
      "cell_type": "code",
      "execution_count": 19,
      "metadata": {
        "colab": {
          "base_uri": "https://localhost:8080/"
        },
        "id": "fFvj5fc5FS0t",
        "outputId": "eb3ba5a5-fd19-4b4c-d6da-b1749596dbb9"
      },
      "outputs": [
        {
          "data": {
            "text/plain": [
              "<sqlite3.Cursor at 0x236c44a1c40>"
            ]
          },
          "execution_count": 19,
          "metadata": {},
          "output_type": "execute_result"
        }
      ],
      "source": [
        "cur.executescript(create_tables)"
      ]
    },
    {
      "cell_type": "code",
      "execution_count": 20,
      "metadata": {
        "colab": {
          "base_uri": "https://localhost:8080/"
        },
        "id": "ttwuK-i-FXHR",
        "outputId": "c3b2825a-2351-431d-be94-d23a3810c6f4"
      },
      "outputs": [
        {
          "data": {
            "text/plain": [
              "32951"
            ]
          },
          "execution_count": 20,
          "metadata": {},
          "output_type": "execute_result"
        }
      ],
      "source": [
        "# Ingestamos las tablas\n",
        "customers.to_sql(     name='customers', con=conn, if_exists='append', index=True)\n",
        "order_items.to_sql(   name='order_items', con=conn, if_exists='append', index=True)\n",
        "order_payments.to_sql(name='order_payments', con=conn, if_exists='append', index=True)\n",
        "orders.to_sql(        name='orders', con=conn, if_exists='append', index=True)\n",
        "products.to_sql(      name='products', con=conn, if_exists='append', index=True)"
      ]
    },
    {
      "cell_type": "markdown",
      "metadata": {
        "id": "aIP1WGQeIimz"
      },
      "source": [
        "#### Probamos si se lograron meter en la BBDD"
      ]
    },
    {
      "cell_type": "code",
      "execution_count": 21,
      "metadata": {
        "colab": {
          "base_uri": "https://localhost:8080/"
        },
        "id": "ZXJQj-FiF7O1",
        "outputId": "bc05f6df-e6a4-458c-c562-5ca8868de706"
      },
      "outputs": [
        {
          "name": "stdout",
          "output_type": "stream",
          "text": [
            "('06b8999e2fba1a1fbc88172c00ba8bc7', '861eff4711a542e4b93843c6dd7febb0', 14409, 'franca', 'SP')\n",
            "('18955e83d337fd6b2def6b18a428ac77', '290c77bc529b7ac935b93aa66c333dc3', 9790, 'sao bernardo do campo', 'SP')\n",
            "('4e7b3e00288586ebd08712fdd0374a03', '060e732b5b29e8181a18229c7b0b2b5e', 1151, 'sao paulo', 'SP')\n",
            "('b2b6027bc5c5109e529d4dc6358b12c3', '259dac757896d24d7702b9acbbff3f3c', 8775, 'mogi das cruzes', 'SP')\n",
            "('4f2d8ab171c80ec8364f7c12e35b23ad', '345ecd01c38d18a9036ed96c73b8d066', 13056, 'campinas', 'SP')\n",
            "('879864dab9bc3047522c92c82e1212b8', '4c93744516667ad3b8f1fb645a3116a4', 89254, 'jaragua do sul', 'SC')\n",
            "('fd826e7cf63160e536e0908c76c3f441', 'addec96d2e059c80c30fe6871d30d177', 4534, 'sao paulo', 'SP')\n",
            "('5e274e7a0c3809e14aba7ad5aae0d407', '57b2a98a409812fe9618067b6b8ebe4f', 35182, 'timoteo', 'MG')\n",
            "('5adf08e34b2e993982a47070956c5c65', '1175e95fb47ddff9de6b2b06188f7e0d', 81560, 'curitiba', 'PR')\n",
            "('4b7139f34592b3a31687243a302fa75b', '9afe194fb833f79e300e37e580171f22', 30575, 'belo horizonte', 'MG')\n"
          ]
        }
      ],
      "source": [
        "for algo in cur.execute('select * from customers limit 10;').fetchall():\n",
        "    print(algo)"
      ]
    },
    {
      "cell_type": "markdown",
      "metadata": {
        "id": "T1bC1ZfoIoch"
      },
      "source": [
        "### Ejecutar una consulta PRAGMA para obtener la estructura de las tablas y guardar la info a un archivo con extensión .info"
      ]
    },
    {
      "cell_type": "code",
      "execution_count": 22,
      "metadata": {
        "id": "_CBdAi0AG_HL"
      },
      "outputs": [],
      "source": [
        "with open('./estructuras_tablas.info', 'w') as file:\n",
        "    for tablita in cur.execute('pragma table_info(customers);').fetchall():\n",
        "        print(tablita, file=file)"
      ]
    },
    {
      "cell_type": "markdown",
      "metadata": {
        "id": "Xx4li3OnWd7q"
      },
      "source": [
        "## Obtener los nombres de los índices de las tablas y guardar la info a un archivo con extensión .info"
      ]
    },
    {
      "cell_type": "code",
      "execution_count": 23,
      "metadata": {
        "id": "rU8rQkkZWqBz"
      },
      "outputs": [],
      "source": [
        "cur.execute(\"SELECT name FROM sqlite_master WHERE type='table';\")\n",
        "nombre_tablas = cur.fetchall()\n",
        "\n",
        "with open('indices_tablas.info', 'w') as file:\n",
        "    for tabla in nombre_tablas:\n",
        "        tabla = tabla[0]\n",
        "        pragma_query = f\"PRAGMA index_list({tabla});\"\n",
        "        cur.execute(pragma_query)\n",
        "        index_info = cur.fetchall()\n",
        "\n",
        "        file.write(f\"Índices de la tabla '{tabla}':\\n\")\n",
        "        for index in index_info:\n",
        "            print(index, file=file)"
      ]
    },
    {
      "cell_type": "markdown",
      "metadata": {
        "id": "3KwS4AnEW2Ir"
      },
      "source": [
        "## Usando consultas SELECT que involucren joins y agrupaciones para obtener información valiosa respondiendo a las siguientes necesidades:"
      ]
    },
    {
      "cell_type": "markdown",
      "metadata": {
        "id": "k5J28SSaXo9w"
      },
      "source": [
        "### Analizar el comportamiento de compra de los clientes:"
      ]
    },
    {
      "cell_type": "markdown",
      "metadata": {
        "id": "sZ4tcQ_IXs4w"
      },
      "source": [
        "- Utilizar los datos de los customers, orders y order_items\n",
        "- Calcula el valor promedio de los pedidos realizados por cada cliente\n",
        "- Identifica a los clientes con los pedidos de mayor valor\n",
        "- Calcular la frecuencia promedio de compra por cliente, es decir, la cantidad de pedidos realizados en un período de tiempo determinado\n",
        "- Generar un informe que muestre los clientes más frecuentes y su promedio de frecuencia de compra."
      ]
    },
    {
      "cell_type": "code",
      "execution_count": 24,
      "metadata": {
        "colab": {
          "base_uri": "https://localhost:8080/",
          "height": 206
        },
        "id": "bRi_m86RYlDj",
        "outputId": "874a03b1-0331-480e-e3e9-45997c1f4f3e"
      },
      "outputs": [
        {
          "data": {
            "text/html": [
              "<div>\n",
              "<style scoped>\n",
              "    .dataframe tbody tr th:only-of-type {\n",
              "        vertical-align: middle;\n",
              "    }\n",
              "\n",
              "    .dataframe tbody tr th {\n",
              "        vertical-align: top;\n",
              "    }\n",
              "\n",
              "    .dataframe thead th {\n",
              "        text-align: right;\n",
              "    }\n",
              "</style>\n",
              "<table border=\"1\" class=\"dataframe\">\n",
              "  <thead>\n",
              "    <tr style=\"text-align: right;\">\n",
              "      <th></th>\n",
              "      <th>Cliente</th>\n",
              "      <th>precio_promedio</th>\n",
              "    </tr>\n",
              "  </thead>\n",
              "  <tbody>\n",
              "    <tr>\n",
              "      <th>0</th>\n",
              "      <td>dc4802a71eae9be1dd28f5d788ceb526</td>\n",
              "      <td>6929.31</td>\n",
              "    </tr>\n",
              "    <tr>\n",
              "      <th>1</th>\n",
              "      <td>459bef486812aa25204be022145caa62</td>\n",
              "      <td>6922.21</td>\n",
              "    </tr>\n",
              "    <tr>\n",
              "      <th>2</th>\n",
              "      <td>ff4159b92c40ebe40454e3e6a7c35ed6</td>\n",
              "      <td>6726.66</td>\n",
              "    </tr>\n",
              "    <tr>\n",
              "      <th>3</th>\n",
              "      <td>eebb5dda148d3893cdaf5b5ca3040ccb</td>\n",
              "      <td>4764.34</td>\n",
              "    </tr>\n",
              "    <tr>\n",
              "      <th>4</th>\n",
              "      <td>48e1ac109decbb87765a3eade6854098</td>\n",
              "      <td>4681.78</td>\n",
              "    </tr>\n",
              "  </tbody>\n",
              "</table>\n",
              "</div>"
            ],
            "text/plain": [
              "                            Cliente  precio_promedio\n",
              "0  dc4802a71eae9be1dd28f5d788ceb526          6929.31\n",
              "1  459bef486812aa25204be022145caa62          6922.21\n",
              "2  ff4159b92c40ebe40454e3e6a7c35ed6          6726.66\n",
              "3  eebb5dda148d3893cdaf5b5ca3040ccb          4764.34\n",
              "4  48e1ac109decbb87765a3eade6854098          4681.78"
            ]
          },
          "execution_count": 24,
          "metadata": {},
          "output_type": "execute_result"
        }
      ],
      "source": [
        "# Calcula el valor promedio de los pedidos realizados por cada cliente\n",
        "query_1 = '''\n",
        "    SELECT\n",
        "        c.customer_unique_id AS Cliente,\n",
        "        avg(oi.price + oi.freight_value) AS precio_promedio\n",
        "    FROM orders as o\n",
        "    INNER JOIN customers AS c\n",
        "        ON o.customer_id = c.customer_id\n",
        "    INNER JOIN order_items AS oi\n",
        "        ON o.order_id = oi.order_id\n",
        "    GROUP BY Cliente\n",
        "    ORDER BY precio_promedio DESC\n",
        "    -- LIMIT 5\n",
        ";\n",
        "'''\n",
        "# consulta = cur.execute(query_1).fetchall()\n",
        "# for linea in consulta:\n",
        "#     print(linea)\n",
        "\n",
        "\n",
        "query_1_df = pd.read_sql_query(query_1, conn)\n",
        "query_1_df.head()"
      ]
    },
    {
      "cell_type": "code",
      "execution_count": 36,
      "metadata": {
        "id": "RhGmD4rOQ9fE"
      },
      "outputs": [],
      "source": [
        "# Pasamos el output de la query a un archivo CSV para posterior análisis\n",
        "query_1_df.to_csv('./csv_salida/promedio_pedidos_x_cada_cliente.csv', index=False)"
      ]
    },
    {
      "cell_type": "code",
      "execution_count": 26,
      "metadata": {
        "colab": {
          "base_uri": "https://localhost:8080/",
          "height": 206
        },
        "id": "B1IBLftZ7oyl",
        "outputId": "a7c6bf7a-eb25-4a36-9a01-955a05b647cb"
      },
      "outputs": [
        {
          "data": {
            "text/html": [
              "<div>\n",
              "<style scoped>\n",
              "    .dataframe tbody tr th:only-of-type {\n",
              "        vertical-align: middle;\n",
              "    }\n",
              "\n",
              "    .dataframe tbody tr th {\n",
              "        vertical-align: top;\n",
              "    }\n",
              "\n",
              "    .dataframe thead th {\n",
              "        text-align: right;\n",
              "    }\n",
              "</style>\n",
              "<table border=\"1\" class=\"dataframe\">\n",
              "  <thead>\n",
              "    <tr style=\"text-align: right;\">\n",
              "      <th></th>\n",
              "      <th>Cliente</th>\n",
              "      <th>pedidos_mayor_valor</th>\n",
              "    </tr>\n",
              "  </thead>\n",
              "  <tbody>\n",
              "    <tr>\n",
              "      <th>0</th>\n",
              "      <td>dc4802a71eae9be1dd28f5d788ceb526</td>\n",
              "      <td>6929.31</td>\n",
              "    </tr>\n",
              "    <tr>\n",
              "      <th>1</th>\n",
              "      <td>459bef486812aa25204be022145caa62</td>\n",
              "      <td>6922.21</td>\n",
              "    </tr>\n",
              "    <tr>\n",
              "      <th>2</th>\n",
              "      <td>ff4159b92c40ebe40454e3e6a7c35ed6</td>\n",
              "      <td>6726.66</td>\n",
              "    </tr>\n",
              "    <tr>\n",
              "      <th>3</th>\n",
              "      <td>da122df9eeddfedc1dc1f5349a1a690c</td>\n",
              "      <td>4950.34</td>\n",
              "    </tr>\n",
              "    <tr>\n",
              "      <th>4</th>\n",
              "      <td>eebb5dda148d3893cdaf5b5ca3040ccb</td>\n",
              "      <td>4764.34</td>\n",
              "    </tr>\n",
              "  </tbody>\n",
              "</table>\n",
              "</div>"
            ],
            "text/plain": [
              "                            Cliente  pedidos_mayor_valor\n",
              "0  dc4802a71eae9be1dd28f5d788ceb526              6929.31\n",
              "1  459bef486812aa25204be022145caa62              6922.21\n",
              "2  ff4159b92c40ebe40454e3e6a7c35ed6              6726.66\n",
              "3  da122df9eeddfedc1dc1f5349a1a690c              4950.34\n",
              "4  eebb5dda148d3893cdaf5b5ca3040ccb              4764.34"
            ]
          },
          "execution_count": 26,
          "metadata": {},
          "output_type": "execute_result"
        }
      ],
      "source": [
        "# Identifica a los clientes con los pedidos de mayor valor\n",
        "query_2 = '''\n",
        "    SELECT\n",
        "        c.customer_unique_id AS Cliente,\n",
        "        max(oi.price + oi.freight_value) AS pedidos_mayor_valor\n",
        "    FROM orders as o\n",
        "    INNER JOIN customers AS c\n",
        "        ON o.customer_id = c.customer_id\n",
        "    INNER JOIN order_items AS oi\n",
        "        ON o.order_id = oi.order_id\n",
        "    GROUP BY Cliente\n",
        "    ORDER BY pedidos_mayor_valor DESC\n",
        "    LIMIT 5\n",
        ";\n",
        "'''\n",
        "consulta = pd.read_sql_query(query_2, conn)\n",
        "consulta"
      ]
    },
    {
      "cell_type": "code",
      "execution_count": 27,
      "metadata": {
        "colab": {
          "base_uri": "https://localhost:8080/",
          "height": 750
        },
        "id": "oGR7H9v3LQxa",
        "outputId": "391bc6ea-693a-43f8-b850-143b2ea314fd"
      },
      "outputs": [
        {
          "data": {
            "text/plain": [
              "<Axes: title={'center': 'Cilentes con los pedidos de mayor valor'}, xlabel='Cliente'>"
            ]
          },
          "execution_count": 27,
          "metadata": {},
          "output_type": "execute_result"
        },
        {
          "data": {
            "image/png": "[encoded data removed]",
            "text/plain": [
              "<Figure size 640x480 with 1 Axes>"
            ]
          },
          "metadata": {},
          "output_type": "display_data"
        }
      ],
      "source": [
        "consulta.plot(kind='bar', x='Cliente', y='pedidos_mayor_valor', title='Cilentes con los pedidos de mayor valor')"
      ]
    },
    {
      "cell_type": "code",
      "execution_count": 37,
      "metadata": {
        "id": "uYIypWc7-3oN"
      },
      "outputs": [],
      "source": [
        "# Calcular la frecuencia promedio de compra por cliente, es decir, la cantidad de pedidos realizados en un período de tiempo determinado\n",
        "query_3 = '''\n",
        "    SELECT\n",
        "        c.customer_unique_id AS id_cliente,\n",
        "        count(o.order_id) AS total_ordenes,\n",
        "        (julianday(MAX(o.order_purchase_timestamp)) - julianday(MIN(o.order_purchase_timestamp))) / (count(o.order_id) - 1) AS frecuencia_promedio\n",
        "    FROM\n",
        "        customers AS c\n",
        "    INNER JOIN orders AS o\n",
        "        ON c.customer_id = o.customer_id\n",
        "    GROUP BY c.customer_unique_id\n",
        "    HAVING frecuencia_promedio > 0\n",
        "    ORDER BY frecuencia_promedio DESC\n",
        ";\n",
        "'''\n",
        "frec = pd.read_sql_query(query_3, conn)\n",
        "frec.head()\n",
        "\n",
        "# Pasamos el output de la query a un archivo CSV para posterior análisis\n",
        "frec.to_csv('./csv_salida/frecuencia_prom_por_cliente.csv', index=False)"
      ]
    },
    {
      "cell_type": "markdown",
      "metadata": {
        "id": "rJLhJJL3X4bw"
      },
      "source": [
        "### Realizar un análisis de popularidad de productos por categoría:"
      ]
    },
    {
      "cell_type": "markdown",
      "metadata": {
        "id": "P5-aMGaBYAor"
      },
      "source": [
        "- Utilizar datos de los archivos products y order_items\n",
        "- Agrupar los productos por categoría y calcula la cantidad total de unidades vendidas para cada categoría\n",
        "- Generar un informe que muestre las categorías de productos más populares en términos de ventas"
      ]
    },
    {
      "cell_type": "code",
      "execution_count": 29,
      "metadata": {
        "colab": {
          "base_uri": "https://localhost:8080/"
        },
        "id": "-kGh1x_lYl4q",
        "outputId": "eff8fbd3-ce5f-4c2a-fd4d-92b23f6f3adf"
      },
      "outputs": [
        {
          "name": "stdout",
          "output_type": "stream",
          "text": [
            "('cama_mesa_banho', 11115)\n",
            "('beleza_saude', 9670)\n",
            "('esporte_lazer', 8641)\n",
            "('moveis_decoracao', 8334)\n",
            "('informatica_acessorios', 7827)\n"
          ]
        }
      ],
      "source": [
        "# Agrupar los productos por categoría y calcula la cantidad total de unidades vendidas para cada categoría\n",
        "query_4 = '''\n",
        "    SELECT\n",
        "        p.product_category_name AS Categoria,\n",
        "        COUNT(oi.product_id) AS Cantidad\n",
        "    FROM order_items AS oi\n",
        "    INNER JOIN products AS p\n",
        "        ON oi.product_id = p.product_id\n",
        "    GROUP BY Categoria\n",
        "    ORDER BY Cantidad DESC\n",
        "    LIMIT 5\n",
        ";\n",
        "'''\n",
        "consulta = cur.execute(query_4).fetchall()\n",
        "for linea in consulta:\n",
        "    print(linea)"
      ]
    },
    {
      "cell_type": "markdown",
      "metadata": {
        "id": "uGzQEkNjYGdV"
      },
      "source": [
        "### Realizar un análisis de la satisfacción del cliente basado en la velocidad de entrega:"
      ]
    },
    {
      "cell_type": "markdown",
      "metadata": {
        "id": "VHMpbV6TYKNd"
      },
      "source": [
        "- Utiliza datos de los archivos customers y orders\n",
        "- Calcula el tiempo promedio de entrega de los pedidos por cliente\n",
        "- Genera un informe que muestre los clientes con los tiempos de entrega más rápidos y más lentos"
      ]
    },
    {
      "cell_type": "code",
      "execution_count": 30,
      "metadata": {
        "colab": {
          "base_uri": "https://localhost:8080/",
          "height": 206
        },
        "id": "uuXk-DYRYmJL",
        "outputId": "9952f06a-231b-4e26-8052-e9a7625bb7ee"
      },
      "outputs": [
        {
          "data": {
            "text/html": [
              "<div>\n",
              "<style scoped>\n",
              "    .dataframe tbody tr th:only-of-type {\n",
              "        vertical-align: middle;\n",
              "    }\n",
              "\n",
              "    .dataframe tbody tr th {\n",
              "        vertical-align: top;\n",
              "    }\n",
              "\n",
              "    .dataframe thead th {\n",
              "        text-align: right;\n",
              "    }\n",
              "</style>\n",
              "<table border=\"1\" class=\"dataframe\">\n",
              "  <thead>\n",
              "    <tr style=\"text-align: right;\">\n",
              "      <th></th>\n",
              "      <th>Cliente</th>\n",
              "      <th>Tiempo</th>\n",
              "    </tr>\n",
              "  </thead>\n",
              "  <tbody>\n",
              "    <tr>\n",
              "      <th>0</th>\n",
              "      <td>f83958e993a7f2c3fb301981bbf6deb6</td>\n",
              "      <td>155.14</td>\n",
              "    </tr>\n",
              "    <tr>\n",
              "      <th>1</th>\n",
              "      <td>85895a0452aba21c4bb0e5b0e1b5e6eb</td>\n",
              "      <td>149.59</td>\n",
              "    </tr>\n",
              "    <tr>\n",
              "      <th>2</th>\n",
              "      <td>31954fc2c9d7b714d49ee440cc8ab01f</td>\n",
              "      <td>146.25</td>\n",
              "    </tr>\n",
              "    <tr>\n",
              "      <th>3</th>\n",
              "      <td>3977f83a14549e6265bcded84e92ee80</td>\n",
              "      <td>144.90</td>\n",
              "    </tr>\n",
              "    <tr>\n",
              "      <th>4</th>\n",
              "      <td>cb9aa3a6c7716acf0af57d3622616fef</td>\n",
              "      <td>144.36</td>\n",
              "    </tr>\n",
              "  </tbody>\n",
              "</table>\n",
              "</div>"
            ],
            "text/plain": [
              "                            Cliente  Tiempo\n",
              "0  f83958e993a7f2c3fb301981bbf6deb6  155.14\n",
              "1  85895a0452aba21c4bb0e5b0e1b5e6eb  149.59\n",
              "2  31954fc2c9d7b714d49ee440cc8ab01f  146.25\n",
              "3  3977f83a14549e6265bcded84e92ee80  144.90\n",
              "4  cb9aa3a6c7716acf0af57d3622616fef  144.36"
            ]
          },
          "execution_count": 30,
          "metadata": {},
          "output_type": "execute_result"
        }
      ],
      "source": [
        "# Calcula el tiempo promedio de entrega de los pedidos por cliente\n",
        "query_5 = '''\n",
        "    SELECT\n",
        "        c.customer_unique_id AS Cliente,\n",
        "        round(avg(julianday(o.order_estimated_delivery_date) - julianday(o.order_purchase_timestamp)), 2) AS Tiempo\n",
        "    FROM orders AS o\n",
        "    INNER JOIN customers AS c\n",
        "        ON o.customer_id = c.customer_id\n",
        "    GROUP BY Cliente\n",
        "    ORDER BY Tiempo DESC\n",
        "    LIMIT 5\n",
        ";\n",
        "'''\n",
        "query_5_df = pd.read_sql_query(query_5, conn)\n",
        "query_5_df"
      ]
    },
    {
      "cell_type": "code",
      "execution_count": 31,
      "metadata": {
        "colab": {
          "base_uri": "https://localhost:8080/",
          "height": 680
        },
        "id": "AN0Yp5XsMeNx",
        "outputId": "fd2c5faf-849d-4ff8-8b89-2a5c6c36b1ac"
      },
      "outputs": [
        {
          "data": {
            "image/png": "[encoded data removed]",
            "text/plain": [
              "<Figure size 640x480 with 1 Axes>"
            ]
          },
          "metadata": {},
          "output_type": "display_data"
        }
      ],
      "source": [
        "query_5_df.plot(kind='bar', x='Cliente', y='Tiempo', color='lightblue', zorder=2)\n",
        "\n",
        "plt.title('TOP 5 Clientes por frecuencia de compra')\n",
        "plt.xticks(rotation=50)\n",
        "plt.xlabel('Clientes')\n",
        "plt.ylabel('Tiempo (en días)')\n",
        "plt.grid(True)\n",
        "\n",
        "plt.show()"
      ]
    },
    {
      "cell_type": "markdown",
      "metadata": {
        "id": "YwtOZ_NkYP_o"
      },
      "source": [
        "### Analizar el rendimiento de los métodos de pago utilizados por los clientes:"
      ]
    },
    {
      "cell_type": "markdown",
      "metadata": {
        "id": "gvaHU1gjYSrN"
      },
      "source": [
        "- Utilizar datos de los archivos customers y order_payments\n",
        "- Agrupar los pagos por método de pago y calcula el total de pagos realizados con cada método\n",
        "- Generar un informe que muestre los métodos de pago más utilizados por los clientes"
      ]
    },
    {
      "cell_type": "code",
      "execution_count": 32,
      "metadata": {
        "colab": {
          "base_uri": "https://localhost:8080/",
          "height": 112
        },
        "id": "L1eWwOe0LfDR",
        "outputId": "45a39f92-493b-4457-9659-b22efc1da3a5"
      },
      "outputs": [
        {
          "data": {
            "text/html": [
              "<div>\n",
              "<style scoped>\n",
              "    .dataframe tbody tr th:only-of-type {\n",
              "        vertical-align: middle;\n",
              "    }\n",
              "\n",
              "    .dataframe tbody tr th {\n",
              "        vertical-align: top;\n",
              "    }\n",
              "\n",
              "    .dataframe thead th {\n",
              "        text-align: right;\n",
              "    }\n",
              "</style>\n",
              "<table border=\"1\" class=\"dataframe\">\n",
              "  <thead>\n",
              "    <tr style=\"text-align: right;\">\n",
              "      <th></th>\n",
              "      <th>payment_sequential</th>\n",
              "      <th>payment_type</th>\n",
              "      <th>payment_installments</th>\n",
              "      <th>payment_value</th>\n",
              "    </tr>\n",
              "    <tr>\n",
              "      <th>order_id</th>\n",
              "      <th></th>\n",
              "      <th></th>\n",
              "      <th></th>\n",
              "      <th></th>\n",
              "    </tr>\n",
              "  </thead>\n",
              "  <tbody>\n",
              "    <tr>\n",
              "      <th>b81ef226f3fe1789b1e8b2acac839d17</th>\n",
              "      <td>1</td>\n",
              "      <td>credit_card</td>\n",
              "      <td>8</td>\n",
              "      <td>99.33</td>\n",
              "    </tr>\n",
              "  </tbody>\n",
              "</table>\n",
              "</div>"
            ],
            "text/plain": [
              "                                  payment_sequential payment_type  \\\n",
              "order_id                                                            \n",
              "b81ef226f3fe1789b1e8b2acac839d17                   1  credit_card   \n",
              "\n",
              "                                  payment_installments  payment_value  \n",
              "order_id                                                               \n",
              "b81ef226f3fe1789b1e8b2acac839d17                     8          99.33  "
            ]
          },
          "execution_count": 32,
          "metadata": {},
          "output_type": "execute_result"
        }
      ],
      "source": [
        "order_payments.head(1)"
      ]
    },
    {
      "cell_type": "code",
      "execution_count": 33,
      "metadata": {
        "colab": {
          "base_uri": "https://localhost:8080/"
        },
        "id": "JJAjIiEbYmY_",
        "outputId": "4425dacf-c678-4cc9-f21d-177e0aab45ea"
      },
      "outputs": [
        {
          "name": "stdout",
          "output_type": "stream",
          "text": [
            "('credit_card', 76795)\n",
            "('boleto', 19784)\n",
            "('voucher', 5775)\n",
            "('debit_card', 1529)\n",
            "('not_defined', 3)\n"
          ]
        }
      ],
      "source": [
        "# Agrupar los pagos por método de pago y calcula el total de pagos realizados con cada método\n",
        "query_6 = '''\n",
        "    SELECT\n",
        "        op.payment_type AS Tipo_Pago,\n",
        "        count(o.order_id) AS Cant\n",
        "    FROM orders AS o\n",
        "    INNER JOIN order_payments AS op\n",
        "        ON o.order_id = op.order_id\n",
        "    GROUP BY Tipo_Pago\n",
        "    ORDER BY Cant DESC\n",
        "    LIMIT 5\n",
        ";\n",
        "'''\n",
        "consulta = cur.execute(query_6).fetchall()\n",
        "for linea in consulta:\n",
        "    print(linea)"
      ]
    }
  ],
  "metadata": {
    "colab": {
      "provenance": []
    },
    "kernelspec": {
      "display_name": "Python 3",
      "name": "python3"
    },
    "language_info": {
      "codemirror_mode": {
        "name": "ipython",
        "version": 3
      },
      "file_extension": ".py",
      "mimetype": "text/x-python",
      "name": "python",
      "nbconvert_exporter": "python",
      "pygments_lexer": "ipython3",
      "version": "3.10.11"
    }
  },
  "nbformat": 4,
  "nbformat_minor": 0
}
